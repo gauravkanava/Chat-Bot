{
 "cells": [
  {
   "cell_type": "code",
   "execution_count": 51,
   "id": "1ef1ddc6-ab1e-4f6f-968e-360cd560248a",
   "metadata": {},
   "outputs": [],
   "source": [
    "import mysql.connector #Connects to the MySQL database to store user mistakes\n",
    "import openai #Used for interacting with OpenAI's GPT model\n",
    "from langchain.memory import ConversationBufferMemory #Maintains chat history for better context tracking\n",
    "import json"
   ]
  },
  {
   "cell_type": "code",
   "execution_count": 3,
   "id": "04051088-6c82-4661-91a5-916de841b46c",
   "metadata": {},
   "outputs": [],
   "source": [
    "# Database Setup\n",
    "def connect_to_db():\n",
    "    try:\n",
    "        db = mysql.connector.connect(\n",
    "            host=\"localhost\",\n",
    "            user=\"Your Username\",\n",
    "            password=\"Your Password\",\n",
    "            database=\"language_bot\",\n",
    "            connection_timeout=600  # Increased timeout to prevent disconnection issues\n",
    "        )\n",
    "        return db, db.cursor()\n",
    "    except mysql.connector.Error as err:\n",
    "        print(f\"Database connection error: {err}\")\n",
    "        exit()\n",
    "\n",
    "db, cursor = connect_to_db()\n",
    "\n",
    "cursor.execute(\"\"\"\n",
    "    CREATE TABLE IF NOT EXISTS mistakes (\n",
    "        id INT AUTO_INCREMENT PRIMARY KEY,\n",
    "        user_id VARCHAR(255),\n",
    "        mistake TEXT,\n",
    "        correction TEXT,\n",
    "        timestamp TIMESTAMP DEFAULT CURRENT_TIMESTAMP\n",
    "    )\n",
    "\"\"\")\n",
    "db.commit()"
   ]
  },
  {
   "cell_type": "code",
   "execution_count": 33,
   "id": "5683e673-27bc-4f51-8318-408840f29fff",
   "metadata": {},
   "outputs": [],
   "source": [
    "# OpenAI API Setup\n",
    "OPENAI_API_KEY = \"Your API Toekn Key\"\n",
    "openai.api_key = OPENAI_API_KEY"
   ]
  },
  {
   "cell_type": "code",
   "execution_count": 35,
   "id": "f00e2a76-c2a5-400b-807c-1fafa07f5f1c",
   "metadata": {},
   "outputs": [],
   "source": [
    "# Initialize LangChain Memory\n",
    "session_memories = {}\n",
    "\n",
    "def get_session_memory(session_id):\n",
    "    if session_id not in session_memories:\n",
    "        session_memories[session_id] = ConversationBufferMemory(return_messages=True)\n",
    "    return session_memories[session_id]"
   ]
  },
  {
   "cell_type": "code",
   "execution_count": 49,
   "id": "e26ef928-b800-4b05-82a5-9ba2d11be8ac",
   "metadata": {},
   "outputs": [],
   "source": [
    "# The chatbot processes user input and generates a response using OpenAI’s API.\n",
    "def invoke_chatbot(user_input, session_id):\n",
    "    memory = get_session_memory(session_id)\n",
    "    memory.save_context({\"human\": user_input}, {\"ai\": \"Processing...\"})\n",
    "    try:\n",
    "        client = openai.OpenAI(api_key=OPENAI_API_KEY)\n",
    "        response = client.chat.completions.create(\n",
    "            model=\"gpt-3.5-turbo\",\n",
    "            messages=[\n",
    "                {\"role\": \"system\", \"content\": \"You are a language tutor. Engage in conversation while gently correcting mistakes.\"},\n",
    "                {\"role\": \"user\", \"content\": user_input}\n",
    "            ]\n",
    "        )\n",
    "        reply = response.choices[0].message.content\n",
    "        memory.save_context({\"human\": user_input}, {\"ai\": reply})\n",
    "        return reply\n",
    "    except Exception as e:\n",
    "        return f\"Error communicating with the model: {str(e)}\""
   ]
  },
  {
   "cell_type": "code",
   "execution_count": 41,
   "id": "b797e1a7-00da-4e8f-933c-02f31313624c",
   "metadata": {},
   "outputs": [],
   "source": [
    "def find_differences(original, corrected):\n",
    "    original_words = original.split()\n",
    "    corrected_words = corrected.split()\n",
    "    mistakes = {}\n",
    "    \n",
    "    for o, c in zip(original_words, corrected_words):\n",
    "        if o != c:\n",
    "            mistakes[o] = c\n",
    "    \n",
    "    return mistakes"
   ]
  },
  {
   "cell_type": "code",
   "execution_count": 43,
   "id": "79b4942b-110c-4b95-a83c-261cce104a9b",
   "metadata": {},
   "outputs": [],
   "source": [
    "def save_mistake(user_id, mistake, correction):\n",
    "    cursor.execute(\"\"\"\n",
    "        INSERT INTO mistakes (user_id, mistake, correction)\n",
    "        VALUES (%s, %s, %s)\n",
    "    \"\"\", (user_id, mistake, correction))\n",
    "    db.commit()"
   ]
  },
  {
   "cell_type": "code",
   "execution_count": 45,
   "id": "55ab1e81-bbde-4d01-83f5-a715a77c8245",
   "metadata": {},
   "outputs": [],
   "source": [
    "def get_mistakes_summary(user_id):\n",
    "    cursor.execute(\"\"\"\n",
    "        SELECT mistake, correction FROM mistakes WHERE user_id = %s\n",
    "    \"\"\", (user_id,))\n",
    "    return cursor.fetchall()"
   ]
  },
  {
   "cell_type": "code",
   "execution_count": 47,
   "id": "c74173c3-410e-4ad5-a9be-01e66b0a627e",
   "metadata": {},
   "outputs": [
    {
     "name": "stdin",
     "output_type": "stream",
     "text": [
      "Enter your user ID:  gaurav\n",
      "What language do you know?  hindi\n",
      "What language do you want to learn?  english\n",
      "What is your proficiency level (beginner/intermediate/advanced)?  beginner\n"
     ]
    },
    {
     "name": "stdout",
     "output_type": "stream",
     "text": [
      "Starting conversation in english ...\n",
      "Type 'exit' to stop the chat or 'review' to see your mistakes.\n"
     ]
    },
    {
     "name": "stdin",
     "output_type": "stream",
     "text": [
      "You:  hello\n"
     ]
    },
    {
     "name": "stdout",
     "output_type": "stream",
     "text": [
      "Chatbot: Error communicating with the model: Error code: 429 - {'error': {'message': 'You exceeded your current quota, please check your plan and billing details. For more information on this error, read the docs: https://platform.openai.com/docs/guides/error-codes/api-errors.', 'type': 'insufficient_quota', 'param': None, 'code': 'insufficient_quota'}}\n"
     ]
    },
    {
     "name": "stdin",
     "output_type": "stream",
     "text": [
      "You:  review\n"
     ]
    },
    {
     "name": "stdout",
     "output_type": "stream",
     "text": [
      "Reviewing your mistakes...\n",
      "Mistake: hello -> Correction: Error\n"
     ]
    },
    {
     "name": "stdin",
     "output_type": "stream",
     "text": [
      "You:  exit\n"
     ]
    },
    {
     "name": "stdout",
     "output_type": "stream",
     "text": [
      "Chatbot session ended.\n"
     ]
    }
   ],
   "source": [
    "def chatbot():\n",
    "    user_id = input(\"Enter your user ID: \")\n",
    "    known_lang = input(\"What language do you know? \")\n",
    "    target_lang = input(\"What language do you want to learn? \")\n",
    "    proficiency = input(\"What is your proficiency level (beginner/intermediate/advanced)? \")\n",
    "    session_id = user_id  # Assigning user_id as session_id\n",
    "    \n",
    "    print(\"Starting conversation in\", target_lang, \"...\")\n",
    "    print(\"Type 'exit' to stop the chat or 'review' to see your mistakes.\")\n",
    "    \n",
    "    while True:\n",
    "        user_input = input(\"You: \")\n",
    "        if user_input.lower() == \"exit\":\n",
    "            break\n",
    "        elif user_input.lower() == \"review\":\n",
    "            print(\"Reviewing your mistakes...\")\n",
    "            mistakes = get_mistakes_summary(user_id)\n",
    "            for mistake, correction in mistakes:\n",
    "                print(f\"Mistake: {mistake} -> Correction: {correction}\")\n",
    "            continue\n",
    "\n",
    "        corrected_text = invoke_chatbot(user_input, session_id)\n",
    "        mistakes_dict = find_differences(user_input, corrected_text)\n",
    "        \n",
    "        for mistake, correction in mistakes_dict.items():\n",
    "            save_mistake(user_id, mistake, correction)\n",
    "        \n",
    "        print(f\"Chatbot: {corrected_text}\")\n",
    "\n",
    "    print(\"Chatbot session ended.\")\n",
    "\n",
    "if __name__ == \"__main__\":\n",
    "    chatbot()"
   ]
  },
  {
   "cell_type": "code",
   "execution_count": null,
   "id": "0627629e-45de-4cc8-a6a5-42773545937b",
   "metadata": {},
   "outputs": [],
   "source": []
  }
 ],
 "metadata": {
  "kernelspec": {
   "display_name": "Python [conda env:anaconda3]",
   "language": "python",
   "name": "conda-env-anaconda3-py"
  },
  "language_info": {
   "codemirror_mode": {
    "name": "ipython",
    "version": 3
   },
   "file_extension": ".py",
   "mimetype": "text/x-python",
   "name": "python",
   "nbconvert_exporter": "python",
   "pygments_lexer": "ipython3",
   "version": "3.8.3"
  }
 },
 "nbformat": 4,
 "nbformat_minor": 5
}
